{
 "cells": [
  {
   "cell_type": "code",
   "execution_count": null,
   "metadata": {},
   "outputs": [],
   "source": [
    "# Bai 1\n",
    "class Animal:\n",
    "    def __init__(self, age):\n",
    "        self.age = age\n",
    "        self.name = None\n",
    "    def get_age(self): return self.age\n",
    "    def get_name(self): return self.name\n",
    "    def set_age(self, newage): self.age = newage\n",
    "    def set_name(self, newname): self.name = newname\n",
    "    def __str__(self): return f\"Animal: {self.name}, {self.age}\"\n",
    "class Cat(Animal):\n",
    "    def speak(self): print(\"meo meo\")\n",
    "    def __str__(self): return f\"Cat: {self.name}, {self.age}\"\n",
    "class Rabbit(Animal):\n",
    "    tag = 1\n",
    "    def __init__(self, age, parent1 = None, parent2 = None):\n",
    "        self.age = age\n",
    "        self.parent1 = parent1\n",
    "        self.parent2 = parent2\n",
    "        self.rid = Rabbit.tag\n",
    "        Rabbit.tag += 1\n",
    "    def speak(self): print(\"meep\")\n",
    "    def __str__(self): return f\"Rabit: {self.name}, {self.age}\"\n",
    "class Person(Animal):\n",
    "    def __init__(self, name, age, friends = None):\n",
    "        self.name = name\n",
    "        self.age = age\n",
    "        self.friends = []\n",
    "    def add_friend(self, string): self.friends.append(string)\n",
    "    def speak(self): print(\"Hello\")\n",
    "    def age_diff(self, other): return abs(self.age - other.age)\n",
    "    def __str__(self): return f\"Person: {self.name}, {self.age}\"\n",
    "a = Animal(3)\n",
    "a.set_name(\"con choa\")\n",
    "print(a)\n",
    "a.set_age(10)\n",
    "print(a)\n",
    "print(a.get_age())\n",
    "print(a.get_name())\n",
    "print()\n",
    "\n",
    "meo = Cat(10)\n",
    "meo.speak()\n",
    "meo.set_name(\"con meo\")\n",
    "print(meo)\n",
    "print()\n",
    "\n",
    "r = Rabbit(10)\n",
    "r.set_name(\"con thoa\")\n",
    "r.speak()\n",
    "print(r)\n",
    "print()\n",
    "\n",
    "p1 = Person(\"Nguyen Van A\", 21)\n",
    "print(p1)\n",
    "p1.speak()\n",
    "p2 = Person(\"nguyen Van B\", 30)\n",
    "print(p1.age_diff(p2))\n",
    "p1.add_friend(\"Nguyen\")\n",
    "print(p1)\n"
   ]
  },
  {
   "cell_type": "code",
   "execution_count": 86,
   "metadata": {},
   "outputs": [
    {
     "name": "stdout",
     "output_type": "stream",
     "text": [
      "Person: Nguyen Van, 10\n",
      "Person: Nguyen Van B, 20\n"
     ]
    }
   ],
   "source": [
    "# Bai 2\n",
    "import random\n",
    "class Student(Person):\n",
    "    def change_major(self, string):\n",
    "        self.major = string\n",
    "    def speak(self):\n",
    "        sentence = [\"i have homework\", \"i need sleep\", \"i should eat\", \"i am watching tv\"]\n",
    "        print(sentence[random.randint(0,len(sentence)-1)])\n",
    "# class_name = input(\"Nhap doi tuong: \")\n",
    "# name = input(\"Nhap ten doi tuong: \")\n",
    "# age = input(\"Nhap tuoi doi tuong: \")\n",
    "# s=eval(f\"{class_name}('{name}', {age})\")\n",
    "# print(s)\n",
    "for i in range(int(input(\"So student can nhap: \"))):\n",
    "    name = input(\"Nhap ten doi tuong: \")\n",
    "    age = input(\"Nhap tuoi doi tuong: \")\n",
    "    s=eval(f\"Student('{name}', {age})\")\n",
    "    print(s)\n"
   ]
  },
  {
   "cell_type": "code",
   "execution_count": 88,
   "metadata": {},
   "outputs": [
    {
     "name": "stdout",
     "output_type": "stream",
     "text": [
      "3.4641016151377544\n"
     ]
    }
   ],
   "source": [
    "# Bai 3\n",
    "class Coordinate(object):\n",
    "    def __init__(self, x, y):\n",
    "        self.x=x\n",
    "        self.y=y\n",
    "    def distance(self, other):\n",
    "        x_diff_sq= (self.x-other.x)**2\n",
    "        y_diff_sq= (self.y-other.y)**2\n",
    "        return (x_diff_sq+ y_diff_sq)**0.5\n",
    "    def __str__(self):\n",
    "        return \"<\" + str(self.x)+\",\" +str(self.y)+ \">\"\n",
    "class Coordinate3D(Coordinate):\n",
    "    def __init__(self, x, y, z):\n",
    "        self.x = x\n",
    "        self.y = y\n",
    "        self.z = z\n",
    "    def __str__(self):\n",
    "        return \"<\" + str(self.x) + \",\" + str(self.y) + \",\" + str(self.z) + \">\"\n",
    "    def distance3D(self, other):\n",
    "        x_diff_sq= (self.x-other.x)**2\n",
    "        y_diff_sq= (self.y-other.y)**2\n",
    "        z_diff_sq= (self.z-other.z)**2\n",
    "        return (x_diff_sq+ y_diff_sq+z_diff_sq)**0.5\n",
    "A = Coordinate3D(1, 2, 3)\n",
    "B = Coordinate3D(3, 4, 5)\n",
    "print(A.distance3D(B))\n"
   ]
  },
  {
   "cell_type": "code",
   "execution_count": 2,
   "metadata": {},
   "outputs": [
    {
     "name": "stdout",
     "output_type": "stream",
     "text": [
      "1\n",
      "chung minh thu: 1\n",
      "ngay thang nam sinh: 1-1-1\n",
      "Luong: 10\n",
      "Bo phan lam viec: home\n",
      "Chuc danh: unemployed\n"
     ]
    }
   ],
   "source": [
    "# Bai 4\n",
    "from Person import Person\n",
    "class Employee(Person):\n",
    "    def add_info(self, pay, depart, title):\n",
    "        self.pay = pay\n",
    "        self.depart = depart\n",
    "        self.title = title\n",
    "    def get_salary(self, days):\n",
    "        return days*self.pay\n",
    "    def get_info(self):\n",
    "        print(f\"Luong: {self.pay}\\nBo phan lam viec: {self.depart}\\nChuc danh: {self.title}\")\n",
    "e=Employee(input(),input(),int(input()),int(input()),int(input()))\n",
    "e.add_info(10,\"home\",\"unemployed\")\n",
    "print(e)\n",
    "e.get_info()\n"
   ]
  },
  {
   "cell_type": "code",
   "execution_count": 15,
   "metadata": {},
   "outputs": [
    {
     "name": "stdout",
     "output_type": "stream",
     "text": [
      "Tien cong thang nay la (cong thuong): 700\n",
      "Tien cong thang nay la: 100\n"
     ]
    }
   ],
   "source": [
    "# Bai 5\n",
    "class TeamLeader(Employee):\n",
    "    def Leader_info(self, min_hours, bonus):\n",
    "        self.min_hours = min_hours\n",
    "        self.bonus = bonus\n",
    "    def Leader_salary(self, days, hours):\n",
    "        m = self.pay * hours\n",
    "        if self.min_hours > hours: return f\"Tien cong thang nay la: {m}\"\n",
    "        else: return f\"Tien cong thang nay la (cong thuong): {m+self.bonus}\"\n",
    "t = TeamLeader(\"Nguyen Van A\", \"001204\", 26, 12, 2000)\n",
    "t.Leader_info(4, 600)\n",
    "t.add_info(10, \"home\", \"khong co gi\")\n",
    "print(t.Leader_salary(30, 10))\n",
    "t.Leader_info(12, 600)\n",
    "print(t.Leader_salary(30, 10))\n",
    "\n",
    "    "
   ]
  },
  {
   "cell_type": "code",
   "execution_count": 20,
   "metadata": {},
   "outputs": [
    {
     "name": "stdout",
     "output_type": "stream",
     "text": [
      "{1: 'cola'}, {1: 10}\n",
      "{1: 'cola', 2: 'sprite'}, {1: 10, 2: 20}\n"
     ]
    }
   ],
   "source": [
    "# Bai 6\n",
    "# bai 6\n",
    "class ListItem:\n",
    "    def __init__(self):\n",
    "        self.id = 1\n",
    "        self.name_list = {}\n",
    "        self.cost_list = {}\n",
    "    def get_item(self, id):\n",
    "        return f\"{self.name_list[id]}: {self.cost_list[id]}\"\n",
    "    def add_item(self, name, cost):\n",
    "        self.name_list[self.id] = name\n",
    "        self.cost_list[self.id] = cost \n",
    "        self.id+=1\n",
    "    def edit_item(self, id, name, cost):\n",
    "        self.name_list[id] = name\n",
    "        self.cost_list[id] = cost \n",
    "    def remove_item(self, id):\n",
    "        self.name_list.pop(id)\n",
    "        self.cost_list.pop(id)\n",
    "    def __str__(self):\n",
    "        return f\"{self.name_list}, {self.cost_list}\"\n",
    "s=ListItem()\n",
    "s.add_item(\"cola\", 10)\n",
    "s.add_item(\"pépsi\", 9)\n",
    "s.edit_item(2, \"sprite\", 20)\n",
    "s.get_item(2)\n",
    "s.remove_item(2)\n",
    "print(s)\n",
    "s.edit_item(2, \"sprite\", 20)\n",
    "print(s)"
   ]
  },
  {
   "cell_type": "code",
   "execution_count": 30,
   "metadata": {},
   "outputs": [
    {
     "name": "stdout",
     "output_type": "stream",
     "text": [
      "Ngay hop le\n"
     ]
    },
    {
     "ename": "ValueError",
     "evalue": "Dinh dang gio khong hop le",
     "output_type": "error",
     "traceback": [
      "\u001b[1;31m---------------------------------------------------------------------------\u001b[0m",
      "\u001b[1;31mValueError\u001b[0m                                Traceback (most recent call last)",
      "\u001b[1;32m~\\AppData\\Local\\Temp\\ipykernel_24240\\2399762847.py\u001b[0m in \u001b[0;36m<module>\u001b[1;34m\u001b[0m\n\u001b[0;32m     15\u001b[0m \u001b[0mt\u001b[0m\u001b[1;33m.\u001b[0m\u001b[0mistimevalid\u001b[0m\u001b[1;33m(\u001b[0m\u001b[1;33m)\u001b[0m\u001b[1;33m\u001b[0m\u001b[1;33m\u001b[0m\u001b[0m\n\u001b[0;32m     16\u001b[0m \u001b[0mt\u001b[0m\u001b[1;33m.\u001b[0m\u001b[0madd_time\u001b[0m\u001b[1;33m(\u001b[0m\u001b[1;36m12\u001b[0m\u001b[1;33m,\u001b[0m \u001b[1;36m20\u001b[0m\u001b[1;33m,\u001b[0m \u001b[1;36m61\u001b[0m\u001b[1;33m)\u001b[0m\u001b[1;33m\u001b[0m\u001b[1;33m\u001b[0m\u001b[0m\n\u001b[1;32m---> 17\u001b[1;33m \u001b[0mt\u001b[0m\u001b[1;33m.\u001b[0m\u001b[0mistimevalid\u001b[0m\u001b[1;33m(\u001b[0m\u001b[1;33m)\u001b[0m\u001b[1;33m\u001b[0m\u001b[1;33m\u001b[0m\u001b[0m\n\u001b[0m\u001b[0;32m     18\u001b[0m \u001b[1;33m\u001b[0m\u001b[0m\n\u001b[0;32m     19\u001b[0m \u001b[1;33m\u001b[0m\u001b[0m\n",
      "\u001b[1;32m~\\AppData\\Local\\Temp\\ipykernel_24240\\2399762847.py\u001b[0m in \u001b[0;36mistimevalid\u001b[1;34m(self)\u001b[0m\n\u001b[0;32m      9\u001b[0m         \u001b[0md\u001b[0m\u001b[1;33m.\u001b[0m\u001b[0mcheck\u001b[0m\u001b[1;33m(\u001b[0m\u001b[1;33m)\u001b[0m\u001b[1;33m\u001b[0m\u001b[1;33m\u001b[0m\u001b[0m\n\u001b[0;32m     10\u001b[0m         \u001b[1;32mif\u001b[0m \u001b[1;32mnot\u001b[0m\u001b[1;33m(\u001b[0m\u001b[1;36m23\u001b[0m\u001b[1;33m>=\u001b[0m\u001b[0mself\u001b[0m\u001b[1;33m.\u001b[0m\u001b[0mgio\u001b[0m\u001b[1;33m>=\u001b[0m\u001b[1;36m0\u001b[0m\u001b[1;33m)\u001b[0m \u001b[1;32mor\u001b[0m \u001b[1;32mnot\u001b[0m\u001b[1;33m(\u001b[0m\u001b[1;36m60\u001b[0m\u001b[1;33m>=\u001b[0m\u001b[0mself\u001b[0m\u001b[1;33m.\u001b[0m\u001b[0mphut\u001b[0m\u001b[1;33m>=\u001b[0m\u001b[1;36m0\u001b[0m\u001b[1;33m)\u001b[0m \u001b[1;32mor\u001b[0m \u001b[1;32mnot\u001b[0m\u001b[1;33m(\u001b[0m\u001b[1;36m60\u001b[0m\u001b[1;33m>=\u001b[0m\u001b[0mself\u001b[0m\u001b[1;33m.\u001b[0m\u001b[0mgiay\u001b[0m\u001b[1;33m>=\u001b[0m\u001b[1;36m0\u001b[0m\u001b[1;33m)\u001b[0m\u001b[1;33m:\u001b[0m\u001b[1;33m\u001b[0m\u001b[1;33m\u001b[0m\u001b[0m\n\u001b[1;32m---> 11\u001b[1;33m             \u001b[1;32mraise\u001b[0m \u001b[0mValueError\u001b[0m\u001b[1;33m(\u001b[0m\u001b[1;34m\"Dinh dang gio khong hop le\"\u001b[0m\u001b[1;33m)\u001b[0m\u001b[1;33m\u001b[0m\u001b[1;33m\u001b[0m\u001b[0m\n\u001b[0m\u001b[0;32m     12\u001b[0m         \u001b[1;32melse\u001b[0m\u001b[1;33m:\u001b[0m \u001b[0mprint\u001b[0m\u001b[1;33m(\u001b[0m\u001b[1;34m\"Ngay hop le\"\u001b[0m\u001b[1;33m)\u001b[0m\u001b[1;33m\u001b[0m\u001b[1;33m\u001b[0m\u001b[0m\n\u001b[0;32m     13\u001b[0m \u001b[0mt\u001b[0m \u001b[1;33m=\u001b[0m \u001b[0mDateTime\u001b[0m\u001b[1;33m(\u001b[0m\u001b[1;36m26\u001b[0m\u001b[1;33m,\u001b[0m \u001b[1;36m11\u001b[0m\u001b[1;33m,\u001b[0m \u001b[1;36m2204\u001b[0m\u001b[1;33m)\u001b[0m\u001b[1;33m\u001b[0m\u001b[1;33m\u001b[0m\u001b[0m\n",
      "\u001b[1;31mValueError\u001b[0m: Dinh dang gio khong hop le"
     ]
    }
   ],
   "source": [
    "# bai 7\n",
    "from Date import Date\n",
    "class DateTime(Date):\n",
    "    def add_time(self, gio, phut, giay):\n",
    "        self.gio = gio\n",
    "        self.phut = phut\n",
    "        self.giay = giay\n",
    "    def istimevalid(self):\n",
    "        d = Date(self.ngay, self.thang, self.nam)\n",
    "        d.check()\n",
    "        if not(23>=self.gio>=0) or not(60>=self.phut>=0) or not(60>=self.giay>=0):\n",
    "            raise ValueError(\"Dinh dang gio khong hop le\")\n",
    "        else: print(\"Ngay hop le\")\n",
    "t = DateTime(26, 11, 2204)\n",
    "t.add_time(12, 20, 10)\n",
    "t.istimevalid()\n",
    "t.add_time(12, 20, 61)\n",
    "t.istimevalid()\n",
    "\n",
    "\n"
   ]
  }
 ],
 "metadata": {
  "kernelspec": {
   "display_name": "Python 3",
   "language": "python",
   "name": "python3"
  },
  "language_info": {
   "codemirror_mode": {
    "name": "ipython",
    "version": 3
   },
   "file_extension": ".py",
   "mimetype": "text/x-python",
   "name": "python",
   "nbconvert_exporter": "python",
   "pygments_lexer": "ipython3",
   "version": "3.7.9"
  },
  "orig_nbformat": 4,
  "vscode": {
   "interpreter": {
    "hash": "b19d54e705e8489933547ecef40625b1ba60343fde855a91ee21ca0589cbd1e4"
   }
  }
 },
 "nbformat": 4,
 "nbformat_minor": 2
}
